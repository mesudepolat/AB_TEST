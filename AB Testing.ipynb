{
 "cells": [
  {
   "cell_type": "markdown",
   "id": "533541c6",
   "metadata": {},
   "source": [
    "# AB Testing for Facebook Bidding Strategies"
   ]
  },
  {
   "cell_type": "markdown",
   "id": "d26be79d",
   "metadata": {},
   "source": [
    "The ultimate success metric for bombabomba.com is Number of Purchases.Therefore, we should focus on Purchase metrics for statistical testing.\n",
    "\n",
    "* How would you define the hypothesis of this A/B test?\n",
    "* Can we conclude statistically significant results?\n",
    "* Which statistical test did you use, and why?\n",
    "* Based on your answer to Question 2, what would be your recommendation to client?\n",
    "-----------------------------------------"
   ]
  },
  {
   "cell_type": "markdown",
   "id": "efbea11d",
   "metadata": {},
   "source": [
    "## How would you define the hypothesis of this A/B test?\n",
    "* **H0** : There is no statistically significant difference between the Control group that was served the “maximum bidding” campaign and the Test group that was served the “average bidding” campaign.\n",
    "\n",
    "* **H1** : There is a statistically significant difference between the Control group that was served the “maximum bidding” campaign and the Test group that was served the “average bidding” campaign."
   ]
  },
  {
   "cell_type": "code",
   "execution_count": 1,
   "id": "7c3f80b3",
   "metadata": {},
   "outputs": [],
   "source": [
    "# Libraries\n",
    "import pandas as pd\n",
    "from scipy.stats import shapiro\n",
    "from scipy import stats\n",
    "import seaborn as sns\n",
    "import matplotlib.pyplot as plt"
   ]
  },
  {
   "cell_type": "code",
   "execution_count": 2,
   "id": "3f9d7ee8",
   "metadata": {},
   "outputs": [],
   "source": [
    "# Data\n",
    "# avg bidding\n",
    "control = pd.read_excel(\"ab_testing_data.xlsx\",\n",
    "                        sheet_name=\"Control Group\")\n",
    "control.name = \"control\"\n",
    "# max bidding\n",
    "test = pd.read_excel(\"ab_testing_data.xlsx\",\n",
    "                     sheet_name=\"Test Group\")\n",
    "test.name = \"test\""
   ]
  },
  {
   "cell_type": "code",
   "execution_count": 3,
   "id": "60145079",
   "metadata": {},
   "outputs": [],
   "source": [
    "control_purchase = control[[\"Purchase\"]]\n",
    "test_purchase = test[[\"Purchase\"]]"
   ]
  },
  {
   "cell_type": "code",
   "execution_count": 4,
   "id": "a4ee3e46",
   "metadata": {},
   "outputs": [
    {
     "data": {
      "image/png": "[encoded data removed]",
      "text/plain": [
       "<Figure size 432x288 with 1 Axes>"
      ]
     },
     "metadata": {
      "needs_background": "light"
     },
     "output_type": "display_data"
    }
   ],
   "source": [
    "control[\"Group\"] = \"Control\"\n",
    "test[\"Group\"] = \"Test\"\n",
    "Data = pd.concat([control, test], ignore_index=True)\n",
    "sns.boxplot(x=\"Group\", y=\"Purchase\", data=Data);"
   ]
  },
  {
   "cell_type": "markdown",
   "id": "a32dfb72",
   "metadata": {},
   "source": [
    "## Can we conclude statistically significant results?"
   ]
  },
  {
   "cell_type": "markdown",
   "id": "a5c7de98",
   "metadata": {},
   "source": [
    "**1.Checking Assumptions**\n",
    "  * Normal Distribution \n",
    "  * Homogeneity of Variance\n",
    "\n",
    "**2.Implementing Hypothesis**\n",
    "\n"
   ]
  },
  {
   "cell_type": "markdown",
   "id": "06a719b4",
   "metadata": {},
   "source": [
    "### Normal Distribution\n",
    "**Shapiro - Wilk Test**\n",
    "* **H0**: The data follows a normal distribution.\n",
    "\n",
    "* **H1**: The data does not follow a normal distribution."
   ]
  },
  {
   "cell_type": "code",
   "execution_count": 35,
   "id": "ba225509",
   "metadata": {},
   "outputs": [
    {
     "name": "stdout",
     "output_type": "stream",
     "text": [
      "Test statistic = 0.9773,p-value = 0.5891\n"
     ]
    }
   ],
   "source": [
    "# Shapiro-Wilks Test for control group\n",
    "test_statistic, pvalue = shapiro(control[\"Purchase\"])\n",
    "print('Test statistic = %.4f,p-value = %.4f' % (test_statistic, pvalue))"
   ]
  },
  {
   "cell_type": "code",
   "execution_count": 37,
   "id": "4d8e4774",
   "metadata": {},
   "outputs": [
    {
     "data": {
      "text/plain": [
       "False"
      ]
     },
     "execution_count": 37,
     "metadata": {},
     "output_type": "execute_result"
    }
   ],
   "source": [
    "pvalue < 0.05 "
   ]
  },
  {
   "cell_type": "markdown",
   "id": "c68bfcf9",
   "metadata": {},
   "source": [
    "p-value greater then 0.05 so H0 is not rejected for control group"
   ]
  },
  {
   "cell_type": "code",
   "execution_count": 32,
   "id": "0a4a04c9",
   "metadata": {
    "scrolled": true
   },
   "outputs": [
    {
     "name": "stdout",
     "output_type": "stream",
     "text": [
      "Test statistic = 0.9589, p-value = 0.1541\n"
     ]
    }
   ],
   "source": [
    "# Shapiro-Wilks Test for control test\n",
    "test_statistic, pvalue = shapiro(test[\"Purchase\"])\n",
    "print('Test statistic = %.4f, p-value = %.4f' % (test_statistic, pvalue))"
   ]
  },
  {
   "cell_type": "code",
   "execution_count": 38,
   "id": "009c09c2",
   "metadata": {},
   "outputs": [
    {
     "data": {
      "text/plain": [
       "False"
      ]
     },
     "execution_count": 38,
     "metadata": {},
     "output_type": "execute_result"
    }
   ],
   "source": [
    "pvalue < 0.05"
   ]
  },
  {
   "cell_type": "markdown",
   "id": "ceb81b0b",
   "metadata": {},
   "source": [
    "p-value greater then 0.05 so H0 is not rejected for test group."
   ]
  },
  {
   "cell_type": "markdown",
   "id": "9abe5fbe",
   "metadata": {},
   "source": [
    "**Assumption is provided. The data follows a normal distribution.**"
   ]
  },
  {
   "cell_type": "markdown",
   "id": "f31dbff6",
   "metadata": {},
   "source": [
    "### Homogeneity of Variance\n",
    "**Levene Testt**\n",
    "* **H0**: There is no difference between the variance of the both groups\n",
    "\n",
    "* **H1**: There is a significant difference between the variance of the both groups."
   ]
  },
  {
   "cell_type": "code",
   "execution_count": 42,
   "id": "08804f0b",
   "metadata": {},
   "outputs": [
    {
     "name": "stdout",
     "output_type": "stream",
     "text": [
      "Test statistic = 2.6393, p-value = 0.1083\n"
     ]
    }
   ],
   "source": [
    "# Levene test for homogeneity of variance\n",
    "\n",
    "test_statistic,pvalue = stats.levene(control[\"Purchase\"],\n",
    "                                        test[\"Purchase\"])\n",
    "print('Test statistic = %.4f, p-value = %.4f' % (test_statistic, pvalue))"
   ]
  },
  {
   "cell_type": "code",
   "execution_count": 43,
   "id": "085d7252",
   "metadata": {},
   "outputs": [
    {
     "data": {
      "text/plain": [
       "False"
      ]
     },
     "execution_count": 43,
     "metadata": {},
     "output_type": "execute_result"
    }
   ],
   "source": [
    "pvalue < 0.05"
   ]
  },
  {
   "cell_type": "markdown",
   "id": "a53a8668",
   "metadata": {},
   "source": [
    "p-value greater then 0.05 so H0 is not rejected."
   ]
  },
  {
   "cell_type": "markdown",
   "id": "0ea71fad",
   "metadata": {},
   "source": [
    "-----------------------\n",
    "**If normality assumption is provided but variance homogeneity is not provided:**\n",
    "  * Two Independent Sample T Test Function equal_var = True\n",
    "  \n",
    "**If the assumptions are not provided:**\n",
    "  * Mann Whitney - U test\n",
    "------------------------ "
   ]
  },
  {
   "cell_type": "code",
   "execution_count": 44,
   "id": "dbffb13d",
   "metadata": {},
   "outputs": [
    {
     "name": "stdout",
     "output_type": "stream",
     "text": [
      "Test statistic = -0.9416, p-value = 0.3493\n"
     ]
    }
   ],
   "source": [
    "# Indepented Two Sample T-Test\n",
    "test_statistic, pvalue = stats.ttest_ind(control[\"Purchase\"],\n",
    "                                           test[\"Purchase\"],\n",
    "                                           equal_var=True)\n",
    "print('Test statistic = %.4f, p-value = %.4f' % (test_statistic, pvalue))"
   ]
  },
  {
   "cell_type": "code",
   "execution_count": 45,
   "id": "ba2248ba",
   "metadata": {},
   "outputs": [
    {
     "data": {
      "text/plain": [
       "False"
      ]
     },
     "execution_count": 45,
     "metadata": {},
     "output_type": "execute_result"
    }
   ],
   "source": [
    "pvalue < 0.05"
   ]
  },
  {
   "cell_type": "markdown",
   "id": "11a03dd0",
   "metadata": {},
   "source": [
    "p-value greater then 0.05 so H0 is not rejected."
   ]
  },
  {
   "cell_type": "markdown",
   "id": "1a6fe509",
   "metadata": {},
   "source": [
    "**There is no statistically significant difference between the Control group that was served “maximum bidding” campaign and Test group that was served “average bidding” campaign.**"
   ]
  },
  {
   "cell_type": "markdown",
   "id": "ebdd426c",
   "metadata": {},
   "source": [
    "## Which statistical test did we use, and why?"
   ]
  },
  {
   "cell_type": "markdown",
   "id": "266ed648",
   "metadata": {},
   "source": [
    "An assumption of normality and variance homogeneity is provided. Therefore, the Independent Two-Sample T-Test, which is a parametric test\n",
    "used."
   ]
  },
  {
   "cell_type": "markdown",
   "id": "d3102676",
   "metadata": {},
   "source": [
    "## What would be our recommendation to the client?"
   ]
  },
  {
   "cell_type": "markdown",
   "id": "e8a49bd1",
   "metadata": {},
   "source": [
    "Hypothesis test result in two groups the difference between It is not statistically significant. In this case the average bidding to the interests of the company It can be said that it will not be useful."
   ]
  }
 ],
 "metadata": {
  "kernelspec": {
   "display_name": "Python 3",
   "language": "python",
   "name": "python3"
  },
  "language_info": {
   "codemirror_mode": {
    "name": "ipython",
    "version": 3
   },
   "file_extension": ".py",
   "mimetype": "text/x-python",
   "name": "python",
   "nbconvert_exporter": "python",
   "pygments_lexer": "ipython3",
   "version": "3.7.4"
  }
 },
 "nbformat": 4,
 "nbformat_minor": 5
}
